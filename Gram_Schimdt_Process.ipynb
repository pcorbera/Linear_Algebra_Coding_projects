{
  "nbformat": 4,
  "nbformat_minor": 0,
  "metadata": {
    "colab": {
      "name": "Gram Schimdt Process.ipynb",
      "provenance": [],
      "authorship_tag": "ABX9TyMh4HCbNfFibhu/QA9BXkA3",
      "include_colab_link": true
    },
    "kernelspec": {
      "name": "python3",
      "display_name": "Python 3"
    },
    "language_info": {
      "name": "python"
    }
  },
  "cells": [
    {
      "cell_type": "markdown",
      "metadata": {
        "id": "view-in-github",
        "colab_type": "text"
      },
      "source": [
        "<a href=\"https://colab.research.google.com/github/pcorbera/Linear_Algebra_Coding_projects/blob/main/Gram_Schimdt_Process.ipynb\" target=\"_parent\"><img src=\"https://colab.research.google.com/assets/colab-badge.svg\" alt=\"Open In Colab\"/></a>"
      ]
    },
    {
      "cell_type": "code",
      "execution_count": 32,
      "metadata": {
        "id": "iHGEnnSRPwV5"
      },
      "outputs": [],
      "source": [
        "import numpy as np\n",
        "from numpy import c_"
      ]
    },
    {
      "cell_type": "code",
      "source": [
        "# write vectors:\n",
        "r1 = np.array([3, 6, 0])\n",
        "r1\n",
        "# dot product of r1 with itself\n",
        "r1.dot(r1)"
      ],
      "metadata": {
        "colab": {
          "base_uri": "https://localhost:8080/"
        },
        "id": "WQuM6qtgQJ09",
        "outputId": "ad7515d8-dea9-4bfb-ead5-119e321ba2bd"
      },
      "execution_count": 33,
      "outputs": [
        {
          "output_type": "execute_result",
          "data": {
            "text/plain": [
              "45"
            ]
          },
          "metadata": {},
          "execution_count": 33
        }
      ]
    },
    {
      "cell_type": "code",
      "source": [
        "np.sqrt(45)"
      ],
      "metadata": {
        "colab": {
          "base_uri": "https://localhost:8080/"
        },
        "id": "uEq7-J57QdiP",
        "outputId": "ea81bdbf-70f6-4566-f664-bdf1bcd86df9"
      },
      "execution_count": 34,
      "outputs": [
        {
          "output_type": "execute_result",
          "data": {
            "text/plain": [
              "6.708203932499369"
            ]
          },
          "metadata": {},
          "execution_count": 34
        }
      ]
    },
    {
      "cell_type": "code",
      "source": [
        "print(\"this is the square root of 45:\", np.sqrt(45))"
      ],
      "metadata": {
        "colab": {
          "base_uri": "https://localhost:8080/"
        },
        "id": "9gMRzzuCSbCz",
        "outputId": "fc7a8a30-0c6c-436f-8aa5-33a04e33029f"
      },
      "execution_count": 35,
      "outputs": [
        {
          "output_type": "stream",
          "name": "stdout",
          "text": [
            "this is the square root of 45: 6.708203932499369\n"
          ]
        }
      ]
    },
    {
      "cell_type": "code",
      "source": [
        "# Gram-Schmidt process using the first vector [3, 6, 0]\n",
        "\n",
        "r1 = np.array([3, 6, 0])\n",
        "print(\"Our first messy vector is \", r1)\n",
        "\n",
        "# Temporary vector T1\n",
        "\n",
        "T1 = r1\n",
        "print(\"our T1 vector is \", T1)\n",
        "\n",
        "# FInd the magnitude of T1\n",
        "\n",
        "n1 = np.sqrt(T1.dot(T1))\n",
        "print(\"the size of T1 is |T1| = \", n1)\n",
        "\n",
        "# Renormalize, and create u1:\n",
        "\n",
        "u1 = (1/n1) * T1\n",
        "print(\"u1 = \", u1)\n"
      ],
      "metadata": {
        "colab": {
          "base_uri": "https://localhost:8080/"
        },
        "id": "Js2L4nSfSspV",
        "outputId": "cd1d3cc1-e136-4e09-963f-f14e3bef7f03"
      },
      "execution_count": 36,
      "outputs": [
        {
          "output_type": "stream",
          "name": "stdout",
          "text": [
            "Our first messy vector is  [3 6 0]\n",
            "our T1 vector is  [3 6 0]\n",
            "the size of T1 is |T1| =  6.708203932499369\n",
            "u1 =  [0.4472136  0.89442719 0.        ]\n"
          ]
        }
      ]
    },
    {
      "cell_type": "code",
      "source": [
        "# Gram-Schmidt process using the second vector [6, 2, 0]\n",
        "\n",
        "r2 = np.array([6, 2, 0])\n",
        "print(\"Our second messy vector is \", r2)\n",
        "\n",
        "# Temporary vector T1\n",
        "\n",
        "T2 = r2 - (r2.dot(u1))*u1\n",
        "print(\"our T1 vector is \", T2)\n",
        "\n",
        "# FInd the magnitude of T1\n",
        "\n",
        "n2 = np.sqrt(T2.dot(T2))\n",
        "print(\"the size of T2 is |T2| = \", n2)\n",
        "\n",
        "# Renormalize, and create u2:\n",
        "\n",
        "u2 = (1/n2) * T2\n",
        "print(\"u2 = \", u2)\n"
      ],
      "metadata": {
        "colab": {
          "base_uri": "https://localhost:8080/"
        },
        "id": "GLX-7zd0THiG",
        "outputId": "0fb65b26-0b68-424d-a9ad-71d97a0a4c6d"
      },
      "execution_count": 37,
      "outputs": [
        {
          "output_type": "stream",
          "name": "stdout",
          "text": [
            "Our second messy vector is  [6 2 0]\n",
            "our T1 vector is  [ 4. -2.  0.]\n",
            "the size of T2 is |T2| =  4.47213595499958\n",
            "u2 =  [ 0.89442719 -0.4472136   0.        ]\n"
          ]
        }
      ]
    },
    {
      "cell_type": "code",
      "source": [
        "# Gram-Schmidt process using the third vector [(-4), 2, 0]\n",
        "\n",
        "r3 = np.array([(-4), 2, 0])\n",
        "print(\"Our third messy vector is \", r3)\n",
        "\n",
        "# Temporary vector T3\n",
        "\n",
        "T3 = r3 - (r3.dot(u1))*u1 - (r3.dot(u2))*u2\n",
        "print(\"our T3 vector is \", T3)\n",
        "\n",
        "# FInd the magnitude of T3\n",
        "\n",
        "n3 = np.sqrt(T3.dot(T3))\n",
        "print(\"the size of T3 is |T3| = \", n3)\n",
        "\n",
        "# Renormalize, and create u3:\n",
        "\n",
        "#u3 = (1/n3) * T3\n",
        "#print(\"u3 = \", u3)"
      ],
      "metadata": {
        "colab": {
          "base_uri": "https://localhost:8080/"
        },
        "id": "-q86AmczU_bs",
        "outputId": "08647f42-9c9f-4873-b6e7-035895fb8657"
      },
      "execution_count": 38,
      "outputs": [
        {
          "output_type": "stream",
          "name": "stdout",
          "text": [
            "Our third messy vector is  [-4  2  0]\n",
            "our T3 vector is  [-4.4408921e-16 -8.8817842e-16  0.0000000e+00]\n",
            "the size of T3 is |T3| =  9.930136612989092e-16\n"
          ]
        }
      ]
    },
    {
      "cell_type": "code",
      "source": [
        "# Gram-Schmidt process using the fourth vector [3, (-4), 3]\n",
        "\n",
        "r4 = np.array([3, -4, 3])\n",
        "print(\"Our fourth messy vector is \", r4)\n",
        "\n",
        "# Temporary vector T4\n",
        "\n",
        "T4 = r4 - (r4.dot(u1))*u1 - (r4.dot(u2))*u2\n",
        "print(\"our T4 vector is \", T4)\n",
        "\n",
        "# FInd the magnitude of T4\n",
        "\n",
        "n4 = np.sqrt(T4.dot(T4))\n",
        "print(\"the size of T4 is |T4| = \", n4)\n",
        "\n",
        "# Renormalize, and create u4:\n",
        "\n",
        "u4 = (1/n4) * T4\n",
        "print(\"u4 = \", u4)"
      ],
      "metadata": {
        "colab": {
          "base_uri": "https://localhost:8080/"
        },
        "id": "7cB1qksOVZon",
        "outputId": "9b9436f4-c5b2-412b-d5c7-7a5c2b0efd06"
      },
      "execution_count": 41,
      "outputs": [
        {
          "output_type": "stream",
          "name": "stdout",
          "text": [
            "Our fourth messy vector is  [ 3 -4  3]\n",
            "our T4 vector is  [4.44089210e-16 1.33226763e-15 3.00000000e+00]\n",
            "the size of T4 is |T4| =  3.0\n",
            "u4 =  [1.48029737e-16 4.44089210e-16 1.00000000e+00]\n"
          ]
        }
      ]
    },
    {
      "cell_type": "code",
      "source": [
        "r4"
      ],
      "metadata": {
        "colab": {
          "base_uri": "https://localhost:8080/"
        },
        "id": "9Xved7vMXSoc",
        "outputId": "a0ae0d4a-b4d9-4c7d-bc1d-efe75c24a5df"
      },
      "execution_count": 42,
      "outputs": [
        {
          "output_type": "execute_result",
          "data": {
            "text/plain": [
              "array([ 3, -4,  3])"
            ]
          },
          "metadata": {},
          "execution_count": 42
        }
      ]
    },
    {
      "cell_type": "code",
      "source": [
        "r4.dot(u1)"
      ],
      "metadata": {
        "colab": {
          "base_uri": "https://localhost:8080/"
        },
        "id": "zpzDox4dYmFh",
        "outputId": "9f436355-4bb3-48c2-f71b-b98b5024ef0f"
      },
      "execution_count": 43,
      "outputs": [
        {
          "output_type": "execute_result",
          "data": {
            "text/plain": [
              "-2.23606797749979"
            ]
          },
          "metadata": {},
          "execution_count": 43
        }
      ]
    },
    {
      "cell_type": "code",
      "source": [
        "r4.dot(u2)"
      ],
      "metadata": {
        "colab": {
          "base_uri": "https://localhost:8080/"
        },
        "id": "ee-u-BGoYn7_",
        "outputId": "74eed0ee-9dae-44cb-f67e-e532881905be"
      },
      "execution_count": 44,
      "outputs": [
        {
          "output_type": "execute_result",
          "data": {
            "text/plain": [
              "4.47213595499958"
            ]
          },
          "metadata": {},
          "execution_count": 44
        }
      ]
    },
    {
      "cell_type": "code",
      "source": [
        "r4 - r4.dot(u1)*u1 - r4.dot(u2)*u2"
      ],
      "metadata": {
        "colab": {
          "base_uri": "https://localhost:8080/"
        },
        "id": "5Dks0vw3YpZe",
        "outputId": "4b690d42-f8c6-44ea-9a0f-628e4c5cd70b"
      },
      "execution_count": 45,
      "outputs": [
        {
          "output_type": "execute_result",
          "data": {
            "text/plain": [
              "array([4.44089210e-16, 1.33226763e-15, 3.00000000e+00])"
            ]
          },
          "metadata": {},
          "execution_count": 45
        }
      ]
    },
    {
      "cell_type": "code",
      "source": [
        ""
      ],
      "metadata": {
        "id": "CujIseUbYteS"
      },
      "execution_count": null,
      "outputs": []
    }
  ]
}