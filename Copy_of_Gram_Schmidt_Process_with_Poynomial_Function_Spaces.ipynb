{
  "nbformat": 4,
  "nbformat_minor": 0,
  "metadata": {
    "colab": {
      "name": "Copy of Gram-Schmidt Process with Poynomial Function Spaces.ipynb",
      "provenance": [],
      "include_colab_link": true
    },
    "kernelspec": {
      "name": "python3",
      "display_name": "Python 3"
    },
    "language_info": {
      "name": "python"
    }
  },
  "cells": [
    {
      "cell_type": "markdown",
      "metadata": {
        "id": "view-in-github",
        "colab_type": "text"
      },
      "source": [
        "<a href=\"https://colab.research.google.com/github/pcorbera/Linear_Algebra_Coding_projects/blob/main/Copy_of_Gram_Schmidt_Process_with_Poynomial_Function_Spaces.ipynb\" target=\"_parent\"><img src=\"https://colab.research.google.com/assets/colab-badge.svg\" alt=\"Open In Colab\"/></a>"
      ]
    },
    {
      "cell_type": "markdown",
      "source": [
        "Related Youtube Video on a talking piano by Mark Rober - watch before completing the activity:  https://www.youtube.com/watch?v=uBEL3YVzMwk\n",
        "\n",
        "\n",
        "\n",
        "# Gram-Schmidt Process with Function Spaces\n",
        "\n",
        "1. Project 1: Polynomial spaces\n",
        "  1. Choose a \"random\" basis for polynomials of degree 4 or less on the interval $$ -2 \\le t \\le 2 $$\n",
        "  2. Create the inner product (dot product) and norm (magnitude) functions\n",
        "  3. Go through the Gram-Schmidt process to turn the random basis into a nice orthonormal basis\n",
        "  4. Write some different functions in the orthonormal basis.\n",
        "\n",
        "\n",
        "2. Project 2: Homework for this project:\n",
        "  1. Choose a \"random\" basis for periodic functions on the interval $$ -\\pi \\le t \\le \\pi $$\n",
        "  2. Create the inner product (dot product) and norm (magnitude) functions\n",
        "  3. Do the Gram-Schmidt process to turn the random basis into a nice orthonormal basis\n",
        "  4. Write some different functiosn in the orthonormal basis."
      ],
      "metadata": {
        "id": "7cIMTgEm8cgt"
      }
    },
    {
      "cell_type": "code",
      "execution_count": 1,
      "metadata": {
        "id": "tWo4yv9o8YGx"
      },
      "outputs": [],
      "source": [
        "#  Libraries that we'll need:\n",
        "import numpy as np\n",
        "import sympy as sym\n",
        "from sympy.plotting import plot\n",
        "#import matplotlib.pyplot as plt\n",
        "\n",
        "# We'll specify that x and t are variables:\n",
        "x, t = sym.symbols('x, t')"
      ]
    },
    {
      "cell_type": "markdown",
      "source": [
        "## Project 1: Create an Orthonormal Basis for Polynomial Spaces"
      ],
      "metadata": {
        "id": "PRAOELGEhz9V"
      }
    },
    {
      "cell_type": "markdown",
      "source": [
        "### 1. Choose a \"random\" basis for polynomials of degree 4 or less on the interval $$ -2 \\le t \\le 2 $$"
      ],
      "metadata": {
        "id": "b9foyBoY-KJ3"
      }
    },
    {
      "cell_type": "code",
      "source": [
        "# Our \"random\" vectors:\n",
        "# 1,  x,  x**2,  x**3,  x**4\n",
        "r0 = 1\n",
        "r1 = x\n",
        "r2 = x**2\n",
        "r3 = x**3\n",
        "r4 = x**4"
      ],
      "metadata": {
        "id": "JC16q2x7gGmc"
      },
      "execution_count": 2,
      "outputs": []
    },
    {
      "cell_type": "markdown",
      "source": [
        "### 2. Create the inner product (dot product) and norm (magnitude) functions"
      ],
      "metadata": {
        "id": "S0j2ZV7IhjPu"
      }
    },
    {
      "cell_type": "markdown",
      "source": [
        "We'll generalize the notion of dot product for function spaces.  We know the dot product of two vectors in $$\\vec{u}, \\vec{v} \\in \\mathbf{R}^n$$\n",
        "is given by\n",
        "\n",
        "$$ \\vec{u} \\cdot \\vec{v} = \\left( \\begin{array}{c}u_1\\\\u_2\\\\u_3\\\\ \\vdots \\\\ u_n\\\\ \\end{array} \\right) \\cdot \\left( \\begin{array}{c} v_1\\\\v_2\\\\v_3\\\\ \\vdots \\\\ v_n\\\\ \\end{array} \\right) = v_1 \\cdot u_1 + v_2 \\cdot u_2 + \\cdots v_n \\cdot u_n $$\n",
        "\n",
        "which can also be expressed as\n",
        "\n",
        "$$ \\vec{u} \\cdot \\vec{v} = trace\\left( \\vec{v}^\\dagger \\vec{u} \\right) $$\n",
        "\n",
        "When working with function spaces, we can think of representing two functions $f$ and $g$ using samples of points $x_1, x_2, x_3, \\cdots x_n$ which are separated by a distance $dx$.  This *discrete* sampling of the functions produces the dot product, or inner product\n",
        "\n",
        "$$ < f | g > = \\left( \\begin{array}{c} f(x_1) \\\\ f(x_2) \\\\ f(x_3) \\\\ \\vdots \\\\ f(x_n)\\\\ \\end{array} \\right) \\cdot \\left( \\begin{array}{c} g(x_1) \\\\ g(x_2) \\\\ g(x_3)\\\\ \\vdots \\\\ g(x_n)\\\\ \\end{array} \\right) \\; dx = g(x_1) \\cdot f(x_1) \\; dx + g(x_2) \\cdot f(x_2)\\;dx + \\cdots + g(x_n) \\cdot f(x_n) \\; dx $$\n",
        "\n",
        "If we include more and more points, we get, in the limit, an inner product that works with the *continuous* functions $f$ and $g$:\n",
        "\n",
        "$$ < f | g > \\approx \\int_{\\textrm Left}^{\\textrm Right} g(x) f(x) \\; dx $$\n",
        "\n",
        "or\n",
        "\n",
        "$$ < f | g > = k \\int_{\\textrm Left}^{\\textrm Right} g(x) f(x) \\; dx $$\n",
        "\n",
        "We'll include a scaling factor $k$ for convenience, so that the inner product of the constant function $f(x) = 1$ with itself will be one.  That is, we'd like\n",
        "\n",
        "$$< 1 | 1 >  = 1$$\n",
        "\n",
        "\n"
      ],
      "metadata": {
        "id": "zSrmfcm3vWvi"
      }
    },
    {
      "cell_type": "markdown",
      "source": [
        "#### Determining the scaling constant for the inner product on $P_4$\n",
        "\n",
        "Find the scaling constant so that the inner product on the constant function $f(x) = 1$ with itself is 1.\n",
        "\n",
        "We are working with polynomials of degree $4$ or less on the interval $-2 \\le x \\le 2$."
      ],
      "metadata": {
        "id": "iSpgCI1-21Th"
      }
    },
    {
      "cell_type": "code",
      "source": [
        "sym.integrate(1*1, (x,-2,2))"
      ],
      "metadata": {
        "id": "cW-TxG33iQ8k",
        "outputId": "4dfde511-f6ce-47d1-c556-a5e6399aa0b4",
        "colab": {
          "base_uri": "https://localhost:8080/",
          "height": 37
        }
      },
      "execution_count": 3,
      "outputs": [
        {
          "output_type": "execute_result",
          "data": {
            "text/plain": [
              "4"
            ],
            "text/latex": "$\\displaystyle 4$"
          },
          "metadata": {},
          "execution_count": 3
        }
      ]
    },
    {
      "cell_type": "markdown",
      "source": [
        "#### Defining the inner product and norm\n",
        "\n",
        "Using this factor, we'll define our inner product as a function `ip(f,g)` as \n",
        "\n",
        "$$ < \\, f \\, | \\, g \\, > = \\frac{1}{ 4 } \\int_{-2}^{2} g(x) \\, f(x) \\; dx $$\n",
        "\n",
        "The norm, or magnitude, of a vector $f$ will be given by\n",
        "\n",
        "$$ \\left| f \\right| = \\sqrt{ < \\, f \\, | \\, f \\, > }$$\n",
        "\n",
        "We'll use this to define our norm function `n(f)`.  Because of our scaling factor we should have the norm of the constant function $f(x) = 1$ as $1$.\n"
      ],
      "metadata": {
        "id": "AroAi3ae3jDg"
      }
    },
    {
      "cell_type": "code",
      "source": [
        "def ip(a,b):\n",
        "    return (1/4) * sym.integrate(a*b, (x, -2, 2))\n",
        "\n",
        "def n(a):\n",
        "    return sym.sqrt(ip(a,a))"
      ],
      "metadata": {
        "id": "dSBdSm0V4HNp"
      },
      "execution_count": 6,
      "outputs": []
    },
    {
      "cell_type": "markdown",
      "source": [
        "#### Testing the scaling constant on the inner product and norm\n",
        "\n",
        "We'll check that everything works:  \n",
        "\n",
        "  * Is $< 1 | 1 > = 1$\n",
        "\n",
        "  * Is $\\left| 1 \\right| = 1$?"
      ],
      "metadata": {
        "id": "0aVS636T5RxY"
      }
    },
    {
      "cell_type": "code",
      "source": [
        "# check that ip(1,1) = 1 and n(1) = 1:\n",
        "print(\"Testing that <1|1> is 1, and |1| = 1: \")\n",
        "print(\"ip(1,1) = \", ip(1,1))\n",
        "print(\"n(1) = \", n(1))\n"
      ],
      "metadata": {
        "id": "4TolMcRc5a4L",
        "outputId": "1dbc0c2e-8079-460a-8d65-efeff9bf5958",
        "colab": {
          "base_uri": "https://localhost:8080/"
        }
      },
      "execution_count": 7,
      "outputs": [
        {
          "output_type": "stream",
          "name": "stdout",
          "text": [
            "Testing that <1|1> is 1, and |1| = 1: \n",
            "ip(1,1) =  1.00000000000000\n",
            "n(1) =  1.00000000000000\n"
          ]
        }
      ]
    },
    {
      "cell_type": "markdown",
      "source": [
        "### 3. Perform the Gram-Schmidt process to create an orthonormal basis from the random basis.\n",
        "\n",
        "We have the *random* basis\n",
        "\n",
        "$$ r_0 = 1  \\hspace{1cm} r_1 = x \\hspace{1cm} r_2 = x^2 \\hspace{1cm} r_3 = x^3 \\hspace{1cm} r_4 = x^4 $$\n",
        "\n",
        "We'll use code to perform the Gram-Schmidt Orthonormalization Process to generate the nice *orthonormal* basis given by \n",
        "\n",
        "$$ u_0 \\hspace{1cm} u_1 \\hspace{1cm} u_2 \\hspace{1cm} u_3 \\hspace{1cm} u_4 $$\n",
        "\n",
        "This involves four steps:\n",
        "  1.  Select an unprocessed vector $r_i$ from the random basis\n",
        "  2.  Find the vector $T_i$ that is perpendicular to the space spanned by $u_0, u_1, \\cdots, u_{i-1}$.  That is,\n",
        "  $$ T_i = r_i - <\\, r_i \\, | \\, u_1 \\, > \\, u_1 - <\\, r_i \\, | \\, u_2 \\, > \\, u_2 - \\cdots - <\\, r_i \\, | \\, u_{i-1} \\, > \\, u_{i-1}$$\n",
        "  3.  Normalized $T_i$ and set it to $u_i$, if it is non-zero:\n",
        "  $$ u_i = \\frac{1}{\\left| T_i \\right|} T_i \\textrm{ if $T_i \\ne \\vec{0}$ }$$\n",
        "  4.  Test that $u_i$ has norm 1 and is orthogonal to $u_1, u_2, \\cdots, u_{i-1}$:\n",
        "  $$ \\textrm{ Check: } \\left| u_i \\right| = 1 \\textrm{ and } < \\, u_i \\, | \\, u_1 \\, > = 0, \\cdots, < \\, u_i \\, | \\, u_{i-1} \\, > = 0$$\n",
        "\n"
      ],
      "metadata": {
        "id": "kwAIOSA4uZia"
      }
    },
    {
      "cell_type": "markdown",
      "source": [
        "#### Find the first vector $u_0$, and do sanity checks"
      ],
      "metadata": {
        "id": "jfoV9lBIxM5j"
      }
    },
    {
      "cell_type": "code",
      "source": [
        "# Find the orthogonal part to existing u_i's:\n",
        "T0 = r0\n",
        "print(\"T0 = \", T0)"
      ],
      "metadata": {
        "id": "bFKnBt8hAX5f",
        "outputId": "b6bf0638-f064-406a-dbc5-198a5775fa6e",
        "colab": {
          "base_uri": "https://localhost:8080/"
        }
      },
      "execution_count": 9,
      "outputs": [
        {
          "output_type": "stream",
          "name": "stdout",
          "text": [
            "T0 =  1\n"
          ]
        }
      ]
    },
    {
      "cell_type": "code",
      "source": [
        "# Normalize:\n",
        "print(\"|T0| = \", n(T0))\n",
        "u0 = (1/n(T0))*T0\n",
        "print(\"u0 = \", u0)"
      ],
      "metadata": {
        "id": "ZOzD1BQHAkRS",
        "outputId": "ec51b145-9693-4268-d3f6-0d67172dd999",
        "colab": {
          "base_uri": "https://localhost:8080/"
        }
      },
      "execution_count": 10,
      "outputs": [
        {
          "output_type": "stream",
          "name": "stdout",
          "text": [
            "|T0| =  1.00000000000000\n",
            "u0 =  1.00000000000000\n"
          ]
        }
      ]
    },
    {
      "cell_type": "code",
      "source": [
        "# Check that u0 has size 1 and is orthogonal to prior ui's:\n",
        "print(\"Check:  The size of u0 is \", n(u0))\n",
        "#print(\"Check:  The inner product of u0 and ... is \", ip(u0,u0))"
      ],
      "metadata": {
        "id": "wSMMBxY9222T",
        "outputId": "83af9a13-c196-448e-e87d-17e629be5689",
        "colab": {
          "base_uri": "https://localhost:8080/"
        }
      },
      "execution_count": 12,
      "outputs": [
        {
          "output_type": "stream",
          "name": "stdout",
          "text": [
            "Check:  The size of u0 is  1.00000000000000\n"
          ]
        }
      ]
    },
    {
      "cell_type": "markdown",
      "source": [
        "#### Find $u_1$, and do sanity checks"
      ],
      "metadata": {
        "id": "QTG09GL13UgV"
      }
    },
    {
      "cell_type": "code",
      "source": [
        "# Find the orthogonal part to the existing u_i's:\n",
        "T1 = r1 - ip(r1, u0)*u0\n",
        "print(\"T1 = \", T1)"
      ],
      "metadata": {
        "id": "zQlcGPsfBIlW",
        "outputId": "075bcb09-a115-42df-9972-bb4b8bfde168",
        "colab": {
          "base_uri": "https://localhost:8080/"
        }
      },
      "execution_count": 13,
      "outputs": [
        {
          "output_type": "stream",
          "name": "stdout",
          "text": [
            "T1 =  x\n"
          ]
        }
      ]
    },
    {
      "cell_type": "code",
      "source": [
        "#Normalize\n",
        "print(\"|T1| = \", n(T1))\n",
        "u1 = (1/n(T1))*T1\n",
        "print(\"u1 = \", u1)"
      ],
      "metadata": {
        "id": "jWcoF8AjBQgB",
        "outputId": "feef8419-2dc1-42e4-9636-dd0535a85035",
        "colab": {
          "base_uri": "https://localhost:8080/"
        }
      },
      "execution_count": 14,
      "outputs": [
        {
          "output_type": "stream",
          "name": "stdout",
          "text": [
            "|T1| =  1.15470053837925\n",
            "u1 =  0.866025403784439*x\n"
          ]
        }
      ]
    },
    {
      "cell_type": "code",
      "source": [
        "# Check that u1 has size 1 and is orthogonal to prior ui's:\n",
        "print(\"Check:  The size of u1 is: \", n(u1))\n",
        "print(\"Check:  The inner product of u1 and u0 is: \", ip(u1,u0))"
      ],
      "metadata": {
        "id": "Vg2xK2szBv_n",
        "outputId": "7dece695-adb5-477f-af51-cc0a84237e32",
        "colab": {
          "base_uri": "https://localhost:8080/"
        }
      },
      "execution_count": 15,
      "outputs": [
        {
          "output_type": "stream",
          "name": "stdout",
          "text": [
            "Check:  The size of u1 is:  1.00000000000000\n",
            "Check:  The inner product of u1 and u0 is:  0\n"
          ]
        }
      ]
    },
    {
      "cell_type": "markdown",
      "source": [
        "#### Find u_2, and do sanity checks"
      ],
      "metadata": {
        "id": "Xo-Y3Xk1BlGc"
      }
    },
    {
      "cell_type": "code",
      "source": [
        "# Find the orthogonal part to the existing u_i's:\n",
        "t2 = r2 -  ip(r2, u0)*u0 -    ip(r2, u1)*u1\n",
        "print(\"t2 = \", t2)"
      ],
      "metadata": {
        "id": "-vIeELQjBkoI",
        "colab": {
          "base_uri": "https://localhost:8080/"
        },
        "outputId": "e7ee84e2-50fb-4a2b-df03-6cfe77cee62d"
      },
      "execution_count": 24,
      "outputs": [
        {
          "output_type": "stream",
          "name": "stdout",
          "text": [
            "t2 =  x**2 - 1.33333333333333\n"
          ]
        }
      ]
    },
    {
      "cell_type": "code",
      "source": [
        "# Normalize\n",
        "print(\"the size of t2 is \", n(t2))\n",
        "u2 = (1/n(t2))*t2\n",
        "print(\"u2 = \", u2)"
      ],
      "metadata": {
        "id": "RwRn5TN3CAM7",
        "colab": {
          "base_uri": "https://localhost:8080/"
        },
        "outputId": "819c65e0-8fe7-4bd5-9fd1-7727691f1398"
      },
      "execution_count": 25,
      "outputs": [
        {
          "output_type": "stream",
          "name": "stdout",
          "text": [
            "the size of t2 is  1.19256958799989\n",
            "u2 =  0.838525491562421*x**2 - 1.11803398874989\n"
          ]
        }
      ]
    },
    {
      "cell_type": "code",
      "source": [
        "# Check that u2 has size 1 and is orthogonal to prior ui's:\n",
        "print(\"Check:  The size of u2 is: \", n(u2))\n",
        "print(\"Check:  The inner product of u2 and u0 is: \", ip(u2,u0))\n",
        "print(\"Check:  The inner product of u2 and u1 is: \", ip(u2,u1))"
      ],
      "metadata": {
        "id": "rqKkSxLAB-_P",
        "colab": {
          "base_uri": "https://localhost:8080/"
        },
        "outputId": "573df092-a070-4266-d8ce-cfa383d4c971"
      },
      "execution_count": 27,
      "outputs": [
        {
          "output_type": "stream",
          "name": "stdout",
          "text": [
            "Check:  The size of u2 is:  1.00000000000000\n",
            "Check:  The inner product of u2 and u0 is:  0\n",
            "Check:  The inner product of u2 and u1 is:  0\n"
          ]
        }
      ]
    },
    {
      "cell_type": "markdown",
      "source": [
        "#### Find u_3, and do sanity checks"
      ],
      "metadata": {
        "id": "K_w70xUyBrDR"
      }
    },
    {
      "cell_type": "code",
      "source": [
        "# Find the orthogonal part to the existing u_i's: \n",
        "t3 = r3 -  ip(r3, u0)*u0 -    ip(r3, u1)*u1  -  ip(r3, u2)*u2\n",
        "print(\"t3 = \", t3)"
      ],
      "metadata": {
        "id": "B9tYjlkmCGOw",
        "colab": {
          "base_uri": "https://localhost:8080/"
        },
        "outputId": "d84d09a6-1e4d-48ef-8909-553da78a19d2"
      },
      "execution_count": 28,
      "outputs": [
        {
          "output_type": "stream",
          "name": "stdout",
          "text": [
            "t3 =  x**3 - 2.4*x\n"
          ]
        }
      ]
    },
    {
      "cell_type": "code",
      "source": [
        "# Normalize\n",
        "print(\"the size of t3 is \", n(t3))\n",
        "u3 = (1/n(t3))*t3\n",
        "print(\"u3 = \", u3)"
      ],
      "metadata": {
        "id": "sJGdjNnjCKFp",
        "colab": {
          "base_uri": "https://localhost:8080/"
        },
        "outputId": "85075134-a771-41cb-b271-974b20636a37"
      },
      "execution_count": 29,
      "outputs": [
        {
          "output_type": "stream",
          "name": "stdout",
          "text": [
            "the size of t3 is  1.20948631362953\n",
            "u3 =  0.826797284707685*x**3 - 1.98431348329844*x\n"
          ]
        }
      ]
    },
    {
      "cell_type": "code",
      "source": [
        "# Check that u3 has size 1 and is orthogonal to prior ui's:\n",
        "print(\"Check:  The size of u3 is: \", n(u3))\n",
        "print(\"Check:  The inner product of u3 and u0 is: \", ip(u3,u0))\n",
        "print(\"Check:  The inner product of u3 and u1 is: \", ip(u3,u1))\n",
        "print(\"Check:  The inner product of u3 and u2 is: \", ip(u3,u2))"
      ],
      "metadata": {
        "id": "Nve2KVyACLzV",
        "colab": {
          "base_uri": "https://localhost:8080/"
        },
        "outputId": "704a36d6-a3a5-4b34-ff2e-6583b329055b"
      },
      "execution_count": 33,
      "outputs": [
        {
          "output_type": "stream",
          "name": "stdout",
          "text": [
            "Check:  The size of u3 is:  0.999999999999999\n",
            "Check:  The inner product of u3 and u0 is:  0\n",
            "Check:  The inner product of u3 and u1 is:  -4.44089209850063e-16\n",
            "Check:  The inner product of u3 and u2 is:  0\n"
          ]
        }
      ]
    },
    {
      "cell_type": "markdown",
      "source": [
        "#### Find u_4, and do sanity checks"
      ],
      "metadata": {
        "id": "v2HfjvqeBsT6"
      }
    },
    {
      "cell_type": "code",
      "source": [
        "# Find the orthogonal part to the existing u_i's: \n",
        "t4 = r4 -  ip(r4, u0)*u0 -    ip(r4, u1)*u1  -  ip(r4, u2)*u2 - ip(r4, u3)*u3\n",
        "print(\"t4 = \", t4)"
      ],
      "metadata": {
        "id": "J45eE_FNCPFi",
        "colab": {
          "base_uri": "https://localhost:8080/"
        },
        "outputId": "ffd4636e-a1c8-4046-93db-5a648e3c3652"
      },
      "execution_count": 31,
      "outputs": [
        {
          "output_type": "stream",
          "name": "stdout",
          "text": [
            "t4 =  x**4 - 3.42857142857143*x**2 + 1.37142857142857\n"
          ]
        }
      ]
    },
    {
      "cell_type": "code",
      "source": [
        "# Normalize\n",
        "print(\"the size of t4 is \", n(t4))\n",
        "u4 = (1/n(t4))*t4\n",
        "print(\"u4 = \", u4)"
      ],
      "metadata": {
        "id": "8xb08tjWCiRS",
        "colab": {
          "base_uri": "https://localhost:8080/"
        },
        "outputId": "be7000dd-78e7-4026-bffe-9533c283ceaa"
      },
      "execution_count": 32,
      "outputs": [
        {
          "output_type": "stream",
          "name": "stdout",
          "text": [
            "the size of t4 is  1.21904761904762\n",
            "u4 =  0.8203125*x**4 - 2.8125*x**2 + 1.125\n"
          ]
        }
      ]
    },
    {
      "cell_type": "code",
      "source": [
        "# Check that u4 has size 1 and is orthogonal to prior ui's:\n",
        "print(\"Check:  The size of u4 is: \", n(u4))\n",
        "print(\"Check:  The inner product of u4 and u0 is: \", ip(u4,u0))\n",
        "print(\"Check:  The inner product of u4 and u1 is: \", ip(u4,u1))\n",
        "print(\"Check:  The inner product of u4 and u2 is: \", ip(u4,u2))\n",
        "print(\"Check:  The inner product of u4 and u3 is: \", ip(u4,u3))"
      ],
      "metadata": {
        "id": "MTetgrbLCkP8",
        "colab": {
          "base_uri": "https://localhost:8080/"
        },
        "outputId": "2ab67540-333f-4f61-d5a4-8ddedfa40fb2"
      },
      "execution_count": 34,
      "outputs": [
        {
          "output_type": "stream",
          "name": "stdout",
          "text": [
            "Check:  The size of u4 is:  1.00000000000000\n",
            "Check:  The inner product of u4 and u0 is:  -4.44089209850063e-16\n",
            "Check:  The inner product of u4 and u1 is:  0\n",
            "Check:  The inner product of u4 and u2 is:  0\n",
            "Check:  The inner product of u4 and u3 is:  0\n"
          ]
        }
      ]
    },
    {
      "cell_type": "code",
      "source": [
        "#The new basis:\n",
        "print(\"The Orthonormal Basis: \")\n",
        "print(\"u0 = \", u0)\n",
        "print(\"u1 = \", u1)\n",
        "print(\"u2 = \", u2)\n",
        "print(\"u3 = \", u3)\n",
        "print(\"u4 = \", u4)"
      ],
      "metadata": {
        "colab": {
          "base_uri": "https://localhost:8080/"
        },
        "id": "d6IYZO39yrpk",
        "outputId": "9c7ad02a-2323-4620-b981-8cad07647912"
      },
      "execution_count": 35,
      "outputs": [
        {
          "output_type": "stream",
          "name": "stdout",
          "text": [
            "The Orthonormal Basis: \n",
            "u0 =  1.00000000000000\n",
            "u1 =  0.866025403784439*x\n",
            "u2 =  0.838525491562421*x**2 - 1.11803398874989\n",
            "u3 =  0.826797284707685*x**3 - 1.98431348329844*x\n",
            "u4 =  0.8203125*x**4 - 2.8125*x**2 + 1.125\n"
          ]
        }
      ]
    },
    {
      "cell_type": "markdown",
      "source": [
        "### Express various functions in the orthonormal basis."
      ],
      "metadata": {
        "id": "MTB9HyFquhvg"
      }
    },
    {
      "cell_type": "code",
      "source": [
        "pp = sym.sin(x)\n",
        "plot_original = plot(pp, (x,-2,2), line_color='black', show=False)\n",
        "pp0 = ip(pp,u0)*u0 \n",
        "plot0 = plot(pp0, (x,-2,2), line_color='red', show=False)\n",
        "print(\"0th approximation to \", pp , \" is: \", pp0)\n",
        "plot0.extend(plot_original)\n",
        "plot0.show()\n",
        "\n",
        "pp1 = ip(pp,u0)*u0 + ip(pp,u1)*u1 \n",
        "plot1 = plot(pp1, (x,-2,2), line_color='orange', show=False)\n",
        "print(\"1st approximation to \", pp , \" is: \", pp1)\n",
        "plot1.extend(plot_original)\n",
        "plot1.show()\n",
        "\n",
        "pp2 = ip(pp,u0)*u0 + ip(pp,u1)*u1 + ip(pp,u2)*u2\n",
        "plot2 = plot(pp2, (x,-2,2), line_color='green', show=False)\n",
        "print(\"2nd approximation to \", pp , \" is: \", pp2)\n",
        "plot2.extend(plot_original)\n",
        "plot2.show()\n",
        "\n",
        "pp3 = ip(pp,u0)*u0 + ip(pp,u1)*u1 + ip(pp,u2)*u2 + ip(pp,u3)*u3 \n",
        "plot3 = plot(pp3, (x,-2,2), line_color='blue', show=False)\n",
        "print(\"3rd approximation to \", pp , \" is: \", pp3)\n",
        "plot3.extend(plot_original)\n",
        "plot3.show()\n",
        "\n",
        "pp4 = ip(pp,u0)*u0 + ip(pp,u1)*u1 + ip(pp,u2)*u2 + ip(pp,u3)*u3 + ip(pp,u4)*u4\n",
        "plot4 = plot(pp4, (x,-2,2), line_color='purple', show=False)\n",
        "print(\"4th approximation to \", pp , \" is: \", pp4)\n",
        "plot4.extend(plot_original)\n",
        "plot4.show()\n",
        "\n",
        "\n",
        "# plot all of them:\n",
        "plot_original.extend(plot0)\n",
        "plot_original.extend(plot1)\n",
        "plot_original.extend(plot2)\n",
        "plot_original.extend(plot3)\n",
        "plot_original.extend(plot4)\n",
        "plot_original.show()"
      ],
      "metadata": {
        "id": "Zu1BGulR2mVj",
        "colab": {
          "base_uri": "https://localhost:8080/",
          "height": 1000
        },
        "outputId": "78892f33-6cc8-4ccf-f222-c8728db411fd"
      },
      "execution_count": 38,
      "outputs": [
        {
          "output_type": "stream",
          "name": "stdout",
          "text": [
            "0th approximation to  sin(x)  is:  0\n"
          ]
        },
        {
          "output_type": "display_data",
          "data": {
            "text/plain": [
              "<Figure size 432x288 with 1 Axes>"
            ],
            "image/png": "[encoded data removed]"
          },
          "metadata": {
            "needs_background": "light"
          }
        },
        {
          "output_type": "stream",
          "name": "stdout",
          "text": [
            "1st approximation to  sin(x)  is:  0.866025403784439*x*(-0.866025403784439*cos(2) + 0.433012701892219*sin(2))\n"
          ]
        },
        {
          "output_type": "display_data",
          "data": {
            "text/plain": [
              "<Figure size 432x288 with 1 Axes>"
            ],
            "image/png": "[encoded data removed]"
          },
          "metadata": {
            "needs_background": "light"
          }
        },
        {
          "output_type": "stream",
          "name": "stdout",
          "text": [
            "2nd approximation to  sin(x)  is:  0.866025403784439*x*(-0.866025403784439*cos(2) + 0.433012701892219*sin(2))\n"
          ]
        },
        {
          "output_type": "display_data",
          "data": {
            "text/plain": [
              "<Figure size 432x288 with 1 Axes>"
            ],
            "image/png": "[encoded data removed]"
          },
          "metadata": {
            "needs_background": "light"
          }
        },
        {
          "output_type": "stream",
          "name": "stdout",
          "text": [
            "3rd approximation to  sin(x)  is:  0.866025403784439*x*(-0.866025403784439*cos(2) + 0.433012701892219*sin(2)) + (0.826797284707685*x**3 - 1.98431348329844*x)*(3.63790805271381*cos(2) + 1.48823511247383*sin(2))\n"
          ]
        },
        {
          "output_type": "display_data",
          "data": {
            "text/plain": [
              "<Figure size 432x288 with 1 Axes>"
            ],
            "image/png": "[encoded data removed]"
          },
          "metadata": {
            "needs_background": "light"
          }
        },
        {
          "output_type": "stream",
          "name": "stdout",
          "text": [
            "4th approximation to  sin(x)  is:  0.866025403784439*x*(-0.866025403784439*cos(2) + 0.433012701892219*sin(2)) + (0.826797284707685*x**3 - 1.98431348329844*x)*(3.63790805271381*cos(2) + 1.48823511247383*sin(2))\n"
          ]
        },
        {
          "output_type": "display_data",
          "data": {
            "text/plain": [
              "<Figure size 432x288 with 1 Axes>"
            ],
            "image/png": "[encoded data removed]"
          },
          "metadata": {
            "needs_background": "light"
          }
        },
        {
          "output_type": "display_data",
          "data": {
            "text/plain": [
              "<Figure size 432x288 with 1 Axes>"
            ],
            "image/png": "[encoded data removed]"
          },
          "metadata": {
            "needs_background": "light"
          }
        }
      ]
    },
    {
      "cell_type": "code",
      "source": [
        "qq = sym.exp(x)\n",
        "plot_original = plot(qq, (x,-2,2), line_color='black', show=False)\n",
        "qq0 = ip(qq,u0)*u0 \n",
        "plot0 = plot(qq0, (x,-2,2), line_color='red', show=False)\n",
        "print(\"0th aqqroximation to \", qq , \" is: \", sym.simplify(qq0))\n",
        "plot0.extend(plot_original)\n",
        "plot0.show()\n",
        "\n",
        "qq1 = ip(qq,u0)*u0 + ip(qq,u1)*u1 \n",
        "plot1 = plot(qq1, (x,-2,2), line_color='orange', show=False)\n",
        "print(\"1st aqqroximation to \", qq , \" is: \", sym.simplify(qq1))\n",
        "plot1.extend(plot_original)\n",
        "plot1.show()\n",
        "\n",
        "qq2 = ip(qq,u0)*u0 + ip(qq,u1)*u1 + ip(qq,u2)*u2\n",
        "plot2 = plot(qq2, (x,-2,2), line_color='green', show=False)\n",
        "print(\"2nd aqqroximation to \", qq , \" is: \", sym.simplify(qq2))\n",
        "plot2.extend(plot_original)\n",
        "plot2.show()\n",
        "\n",
        "qq3 = ip(qq,u0)*u0 + ip(qq,u1)*u1 + ip(qq,u2)*u2 + ip(qq,u3)*u3 \n",
        "plot3 = plot(qq3, (x,-2,2), line_color='blue', show=False)\n",
        "print(\"3rd aqqroximation to \", qq , \" is: \", sym.simplify(qq3))\n",
        "plot3.extend(plot_original)\n",
        "plot3.show()\n",
        "\n",
        "qq4 = ip(qq,u0)*u0 + ip(qq,u1)*u1 + ip(qq,u2)*u2 + ip(qq,u3)*u3 + ip(qq,u4)*u4\n",
        "plot4 = plot(qq4, (x,-2,2), line_color='purple', show=False)\n",
        "print(\"4th aqqroximation to \", qq , \" is: \", sym.simplify(qq4))\n",
        "plot4.extend(plot_original)\n",
        "plot4.show()\n",
        "\n",
        "\n",
        "# plot all of them:\n",
        "plot_original.extend(plot0)\n",
        "plot_original.extend(plot1)\n",
        "plot_original.extend(plot2)\n",
        "plot_original.extend(plot3)\n",
        "plot_original.extend(plot4)\n",
        "plot_original.show()"
      ],
      "metadata": {
        "id": "pknBT8U-2o4_"
      },
      "execution_count": null,
      "outputs": []
    },
    {
      "cell_type": "code",
      "source": [
        "cc = 4 + 3*x \n",
        "plot_original = plot(cc, (x,-2,2), line_color='black', show=False)\n",
        "cc0 = ip(cc,u0)*u0 \n",
        "plot0 = plot(cc0, (x,-2,2), line_color='red', show=False)\n",
        "print(\"0th accroximation to \", cc , \" is: \", sym.simplify(cc0))\n",
        "plot0.extend(plot_original)\n",
        "plot0.show()\n",
        "\n",
        "cc1 = ip(cc,u0)*u0 + ip(cc,u1)*u1 \n",
        "plot1 = plot(cc1, (x,-2,2), line_color='orange', show=False)\n",
        "print(\"1st accroximation to \", cc , \" is: \", sym.simplify(cc1))\n",
        "plot1.extend(plot_original)\n",
        "plot1.show()\n",
        "\n",
        "cc2 = ip(cc,u0)*u0 + ip(cc,u1)*u1 + ip(cc,u2)*u2\n",
        "plot2 = plot(cc2, (x,-2,2), line_color='green', show=False)\n",
        "print(\"2nd accroximation to \", cc , \" is: \", sym.simplify(cc2))\n",
        "plot2.extend(plot_original)\n",
        "plot2.show()\n",
        "\n",
        "cc3 = ip(cc,u0)*u0 + ip(cc,u1)*u1 + ip(cc,u2)*u2 + ip(cc,u3)*u3 \n",
        "plot3 = plot(cc3, (x,-2,2), line_color='blue', show=False)\n",
        "print(\"3rd accroximation to \", cc , \" is: \", sym.simplify(cc3))\n",
        "plot3.extend(plot_original)\n",
        "plot3.show()\n",
        "\n",
        "cc4 = ip(cc,u0)*u0 + ip(cc,u1)*u1 + ip(cc,u2)*u2 + ip(cc,u3)*u3 + ip(cc,u4)*u4\n",
        "plot4 = plot(cc4, (x,-2,2), line_color='purple', show=False)\n",
        "print(\"4th accroximation to \", cc , \" is: \", sym.simplify(cc4))\n",
        "plot4.extend(plot_original)\n",
        "plot4.show()\n",
        "\n",
        "\n",
        "# plot all of them:\n",
        "plot_original.extend(plot0)\n",
        "plot_original.extend(plot1)\n",
        "plot_original.extend(plot2)\n",
        "plot_original.extend(plot3)\n",
        "plot_original.extend(plot4)\n",
        "plot_original.show()"
      ],
      "metadata": {
        "id": "LTv01CC02scS"
      },
      "execution_count": null,
      "outputs": []
    }
  ]
}